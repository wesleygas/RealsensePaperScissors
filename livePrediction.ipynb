{
 "cells": [
  {
   "cell_type": "code",
   "execution_count": 14,
   "metadata": {},
   "outputs": [],
   "source": [
    "import joblib\n",
    "import pyrealsense2 as rs\n",
    "import numpy as np\n",
    "import cv2\n",
    "from skimage.measure import regionprops, perimeter\n",
    "from skimage import io, morphology\n",
    "clf = joblib.load('meu_modelo.joblib')"
   ]
  },
  {
   "cell_type": "code",
   "execution_count": 16,
   "metadata": {},
   "outputs": [],
   "source": [
    "game_rules = {\"pedra\": cv2.resize(cv2.imread(\"response_images/paper.png\",cv2.IMREAD_COLOR), (640,480)),\n",
    "              \"papel\": cv2.resize(cv2.imread(\"response_images/scissors.png\",cv2.IMREAD_COLOR), (640,480)),\n",
    "              \"tesoura\": cv2.resize(cv2.imread(\"response_images/rock.png\",cv2.IMREAD_COLOR), (640,480)),\n",
    "              \"void\": cv2.resize(cv2.imread(\"response_images/void.png\",cv2.IMREAD_COLOR), (640,480))}"
   ]
  },
  {
   "cell_type": "code",
   "execution_count": 17,
   "metadata": {},
   "outputs": [],
   "source": [
    "cv2.imshow(\"test\", game_rules[\"void\"])\n",
    "cv2.waitKey(0)\n",
    "cv2.destroyAllWindows()"
   ]
  },
  {
   "cell_type": "code",
   "execution_count": 18,
   "metadata": {},
   "outputs": [],
   "source": [
    "def get_feats(img):\n",
    "    props = regionprops(img, coordinates='xy')[0]\n",
    "    eccentricity = props['eccentricity']\n",
    "    hu_moments = props['moments_hu']\n",
    "    area = props['area']\n",
    "    perimeter = props['perimeter']\n",
    "    if perimeter == 0.0:\n",
    "        perimeter = 1.0\n",
    "    compactness = 4.0*np.pi*area/perimeter\n",
    "    feats = [eccentricity, compactness] + list(hu_moments)\n",
    "    return [feats]"
   ]
  },
  {
   "cell_type": "code",
   "execution_count": 19,
   "metadata": {},
   "outputs": [],
   "source": [
    "slem =  morphology.disk(4)\n",
    "font = cv2.FONT_HERSHEY_SIMPLEX\n",
    "colorT = 255"
   ]
  },
  {
   "cell_type": "code",
   "execution_count": 21,
   "metadata": {},
   "outputs": [],
   "source": [
    "pipeline = rs.pipeline()\n",
    "config = rs.config()\n",
    "config.enable_stream(rs.stream.depth, 640, 480, rs.format.z16, 30)\n",
    "config.enable_stream(rs.stream.color, 640, 480, rs.format.bgr8, 30)\n",
    "profile = pipeline.start(config)\n",
    "\n",
    "depth_sensor = profile.get_device().first_depth_sensor()\n",
    "depth_scale = depth_sensor.get_depth_scale()\n",
    "\n",
    "clipping_distance_in_meters = .4\n",
    "clipping_distance = clipping_distance_in_meters / depth_scale\n",
    "\n",
    "# Streaming loop\n",
    "try:\n",
    "    while True:\n",
    "        \n",
    "        frames = pipeline.wait_for_frames()\n",
    "        \n",
    "        depth_frame = frames.get_depth_frame()\n",
    "\n",
    "        if not depth_frame:\n",
    "            continue\n",
    "\n",
    "        depth_image = np.asanyarray(depth_frame.get_data())\n",
    "        depth_corrected = np.where((depth_image > clipping_distance)| (depth_image <= 0), 0, 255)\n",
    "        depth_corrected = np.uint8(depth_corrected)\n",
    "        after = morphology.closing(depth_corrected,selem=slem)\n",
    "        text = \"void\"\n",
    "        if(np.count_nonzero(after) > 500):\n",
    "            feats = get_feats(after)\n",
    "            text  = clf.predict(feats)[0]\n",
    "        \n",
    "        cv2.putText(after, text,(50,50), font, 1, colorT, 2, cv2.LINE_AA)\n",
    "        \n",
    "        cv2.imshow(\"Output\", after)\n",
    "        cv2.imshow(\"Response\", game_rules[text])\n",
    "        key = cv2.waitKey(1)\n",
    "        \n",
    "        \n",
    "        \n",
    "        # Press esc or 'q' to close the image window\n",
    "        if key & 0xFF == ord('q') or key == 27:\n",
    "            cv2.destroyAllWindows()\n",
    "            break\n",
    "finally:\n",
    "    pipeline.stop()\n",
    "    cv2.destroyAllWindows()"
   ]
  },
  {
   "cell_type": "code",
   "execution_count": 7,
   "metadata": {},
   "outputs": [
    {
     "ename": "NameError",
     "evalue": "name 'prediction' is not defined",
     "output_type": "error",
     "traceback": [
      "\u001b[0;31m---------------------------------------------------------------------------\u001b[0m",
      "\u001b[0;31mNameError\u001b[0m                                 Traceback (most recent call last)",
      "\u001b[0;32m<ipython-input-7-6564e5e324aa>\u001b[0m in \u001b[0;36m<module>\u001b[0;34m\u001b[0m\n\u001b[0;32m----> 1\u001b[0;31m \u001b[0mprint\u001b[0m\u001b[0;34m(\u001b[0m\u001b[0mprediction\u001b[0m\u001b[0;34m)\u001b[0m\u001b[0;34m\u001b[0m\u001b[0;34m\u001b[0m\u001b[0m\n\u001b[0m",
      "\u001b[0;31mNameError\u001b[0m: name 'prediction' is not defined"
     ]
    }
   ],
   "source": [
    "print(prediction)"
   ]
  },
  {
   "cell_type": "code",
   "execution_count": null,
   "metadata": {},
   "outputs": [],
   "source": []
  }
 ],
 "metadata": {
  "kernelspec": {
   "display_name": "Python 3",
   "language": "python",
   "name": "python3"
  },
  "language_info": {
   "codemirror_mode": {
    "name": "ipython",
    "version": 3
   },
   "file_extension": ".py",
   "mimetype": "text/x-python",
   "name": "python",
   "nbconvert_exporter": "python",
   "pygments_lexer": "ipython3",
   "version": "3.6.7"
  }
 },
 "nbformat": 4,
 "nbformat_minor": 4
}
