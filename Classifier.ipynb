{
 "cells": [
  {
   "cell_type": "code",
   "execution_count": null,
   "metadata": {},
   "outputs": [],
   "source": [
    "import numpy as np\n",
    "import matplotlib.pyplot as plt\n",
    "import os\n",
    "import os.path\n",
    "from skimage.io import imread\n",
    "\n",
    "def read_from_folder(folder):\n",
    "    data_dir = os.path.join(os.getcwd(),folder)\n",
    "    img_list = []\n",
    "    for name in os.listdir(data_dir):\n",
    "        img = imread(os.path.join(data_dir, name))\n",
    "        img_list.append(img)\n",
    "    return img_list"
   ]
  },
  {
   "cell_type": "code",
   "execution_count": null,
   "metadata": {},
   "outputs": [],
   "source": [
    "imgs_per_cat = dict()\n",
    "imgs_per_cat['papel'] = read_from_folder('papel')\n",
    "imgs_per_cat['pedra'] = read_from_folder('pedra')\n",
    "imgs_per_cat['tesoura'] = read_from_folder('tesoura')"
   ]
  },
  {
   "cell_type": "code",
   "execution_count": null,
   "metadata": {},
   "outputs": [],
   "source": [
    "def show_images(imgs):\n",
    "    C = 4\n",
    "    N = len(imgs)\n",
    "    R = (N - 1)//C + 1\n",
    "    \n",
    "    plt.figure(figsize=(C*3, R*3))\n",
    "    for k, img in enumerate(imgs):\n",
    "        plt.subplot(R, C, k+1)\n",
    "        plt.imshow(img, cmap='gray')\n",
    "    plt.show()\n",
    "\n",
    "for cat, imgs in imgs_per_cat.items():\n",
    "    print(f'{cat}: {len(imgs)} images')\n",
    "    show_images(imgs)"
   ]
  },
  {
   "cell_type": "code",
   "execution_count": null,
   "metadata": {},
   "outputs": [],
   "source": [
    "from skimage.measure import regionprops, perimeter\n",
    "\n",
    "X = []\n",
    "y = []\n",
    "\n",
    "#Pegando caracteristicas específicas de cada imagem\n",
    "\n",
    "for cat, imgs in imgs_per_cat.items():\n",
    "    for img in imgs:\n",
    "        props = regionprops(img)[0]\n",
    "        eccentricity = props['eccentricity']\n",
    "        hu_moments = props['moments_hu']\n",
    "        area = props['area']\n",
    "        perimeter = props['perimeter']\n",
    "        if perimeter == 0.0:\n",
    "            perimeter = 1.0\n",
    "        compactness = 4.0*np.pi*area/perimeter\n",
    "        feats = [eccentricity, compactness] + list(hu_moments)\n",
    "        X.append(feats)\n",
    "        y.append(cat)"
   ]
  },
  {
   "cell_type": "code",
   "execution_count": null,
   "metadata": {},
   "outputs": [],
   "source": [
    "from sklearn.model_selection import train_test_split\n",
    "from sklearn.ensemble import RandomForestClassifier\n",
    "from sklearn.metrics import accuracy_score\n",
    "\n",
    "X_train, X_test, y_train, y_test = train_test_split(X, y, test_size=0.25, random_state=42)\n",
    "\n",
    "clf = RandomForestClassifier(n_estimators=100)\n",
    "\n",
    "clf.fit(X_train, y_train)\n",
    "y_pred = clf.predict(X_test)\n",
    "\n",
    "accuracy_score(y_test, y_pred)"
   ]
  },
  {
   "cell_type": "code",
   "execution_count": null,
   "metadata": {},
   "outputs": [],
   "source": [
    "import joblib\n",
    "\n",
    "joblib.dump(clf, 'meu_modelo.joblib')"
   ]
  },
  {
   "cell_type": "code",
   "execution_count": null,
   "metadata": {},
   "outputs": [],
   "source": [
    "# Lendo o modelo.\n",
    "#clf = joblib.load('meu_modelo.joblib')"
   ]
  },
  {
   "cell_type": "code",
   "execution_count": null,
   "metadata": {},
   "outputs": [],
   "source": [
    "#clf.predict([X_test[0]])"
   ]
  },
  {
   "cell_type": "code",
   "execution_count": null,
   "metadata": {},
   "outputs": [],
   "source": []
  },
  {
   "cell_type": "code",
   "execution_count": null,
   "metadata": {},
   "outputs": [],
   "source": []
  }
 ],
 "metadata": {
  "kernelspec": {
   "display_name": "Python 3",
   "language": "python",
   "name": "python3"
  },
  "language_info": {
   "codemirror_mode": {
    "name": "ipython",
    "version": 3
   },
   "file_extension": ".py",
   "mimetype": "text/x-python",
   "name": "python",
   "nbconvert_exporter": "python",
   "pygments_lexer": "ipython3",
   "version": "3.6.7"
  }
 },
 "nbformat": 4,
 "nbformat_minor": 4
}
